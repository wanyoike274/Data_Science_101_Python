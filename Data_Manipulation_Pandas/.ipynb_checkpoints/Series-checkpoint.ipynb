{
 "cells": [
  {
   "cell_type": "code",
   "execution_count": 3,
   "id": "75aea5fa",
   "metadata": {},
   "outputs": [],
   "source": [
    "#One-dimensional array-like object containing a sequence of values"
   ]
  },
  {
   "cell_type": "code",
   "execution_count": 16,
   "id": "987084cf",
   "metadata": {},
   "outputs": [],
   "source": [
    "import pandas as pd\n",
    "import numpy as np"
   ]
  },
  {
   "cell_type": "code",
   "execution_count": 5,
   "id": "cb2761cb",
   "metadata": {},
   "outputs": [],
   "source": [
    "series1 = pd.Series([-10, 0, 10,20,30,40,50])"
   ]
  },
  {
   "cell_type": "code",
   "execution_count": 7,
   "id": "35a641fe",
   "metadata": {},
   "outputs": [
    {
     "data": {
      "text/plain": [
       "0   -10\n",
       "1     0\n",
       "2    10\n",
       "3    20\n",
       "4    30\n",
       "5    40\n",
       "6    50\n",
       "dtype: int64"
      ]
     },
     "execution_count": 7,
     "metadata": {},
     "output_type": "execute_result"
    }
   ],
   "source": [
    "series1"
   ]
  },
  {
   "cell_type": "code",
   "execution_count": 8,
   "id": "9fa202d1",
   "metadata": {},
   "outputs": [
    {
     "data": {
      "text/plain": [
       "array([-10,   0,  10,  20,  30,  40,  50], dtype=int64)"
      ]
     },
     "execution_count": 8,
     "metadata": {},
     "output_type": "execute_result"
    }
   ],
   "source": [
    "series1.values"
   ]
  },
  {
   "cell_type": "code",
   "execution_count": 9,
   "id": "ed4b2bbb",
   "metadata": {},
   "outputs": [],
   "source": [
    "series2 = pd.Series([5,6,7,8], index=[\"a\", \"b\", \"c\", \"d\"])"
   ]
  },
  {
   "cell_type": "code",
   "execution_count": 10,
   "id": "a6f35229",
   "metadata": {},
   "outputs": [
    {
     "data": {
      "text/plain": [
       "a    5\n",
       "b    6\n",
       "c    7\n",
       "d    8\n",
       "dtype: int64"
      ]
     },
     "execution_count": 10,
     "metadata": {},
     "output_type": "execute_result"
    }
   ],
   "source": [
    "series2"
   ]
  },
  {
   "cell_type": "code",
   "execution_count": 11,
   "id": "1641206f",
   "metadata": {},
   "outputs": [
    {
     "data": {
      "text/plain": [
       "Index(['a', 'b', 'c', 'd'], dtype='object')"
      ]
     },
     "execution_count": 11,
     "metadata": {},
     "output_type": "execute_result"
    }
   ],
   "source": [
    "series2.index"
   ]
  },
  {
   "cell_type": "code",
   "execution_count": 12,
   "id": "d2e54f59",
   "metadata": {},
   "outputs": [
    {
     "data": {
      "text/plain": [
       "6"
      ]
     },
     "execution_count": 12,
     "metadata": {},
     "output_type": "execute_result"
    }
   ],
   "source": [
    "series2[\"b\"]"
   ]
  },
  {
   "cell_type": "code",
   "execution_count": 14,
   "id": "99e408f2",
   "metadata": {},
   "outputs": [
    {
     "data": {
      "text/plain": [
       "c    7\n",
       "d    8\n",
       "dtype: int64"
      ]
     },
     "execution_count": 14,
     "metadata": {},
     "output_type": "execute_result"
    }
   ],
   "source": [
    "series2[series2>6]"
   ]
  },
  {
   "cell_type": "code",
   "execution_count": 15,
   "id": "84a0c9ed",
   "metadata": {},
   "outputs": [
    {
     "data": {
      "text/plain": [
       "a    15\n",
       "b    18\n",
       "c    21\n",
       "d    24\n",
       "dtype: int64"
      ]
     },
     "execution_count": 15,
     "metadata": {},
     "output_type": "execute_result"
    }
   ],
   "source": [
    "series2 *3"
   ]
  },
  {
   "cell_type": "code",
   "execution_count": 17,
   "id": "39fdf2e4",
   "metadata": {},
   "outputs": [
    {
     "data": {
      "text/plain": [
       "a     148.413159\n",
       "b     403.428793\n",
       "c    1096.633158\n",
       "d    2980.957987\n",
       "dtype: float64"
      ]
     },
     "execution_count": 17,
     "metadata": {},
     "output_type": "execute_result"
    }
   ],
   "source": [
    "np.exp(series2)"
   ]
  },
  {
   "cell_type": "code",
   "execution_count": 18,
   "id": "07ba818b",
   "metadata": {},
   "outputs": [
    {
     "data": {
      "text/plain": [
       "True"
      ]
     },
     "execution_count": 18,
     "metadata": {},
     "output_type": "execute_result"
    }
   ],
   "source": [
    "\"b\" in series2"
   ]
  },
  {
   "cell_type": "code",
   "execution_count": 19,
   "id": "f72bddc0",
   "metadata": {},
   "outputs": [],
   "source": [
    "#create Series from python dictionary"
   ]
  },
  {
   "cell_type": "code",
   "execution_count": 21,
   "id": "3195cd2e",
   "metadata": {},
   "outputs": [],
   "source": [
    "states = {\"Ohio\": 35000, \"Texas\":71000, \"Oregon\":16000, \"Utah\":5000}"
   ]
  },
  {
   "cell_type": "code",
   "execution_count": 22,
   "id": "7bbe1997",
   "metadata": {},
   "outputs": [
    {
     "data": {
      "text/plain": [
       "{'Ohio': 35000, 'Texas': 71000, 'Oregon': 16000, 'Utah': 5000}"
      ]
     },
     "execution_count": 22,
     "metadata": {},
     "output_type": "execute_result"
    }
   ],
   "source": [
    "states"
   ]
  },
  {
   "cell_type": "code",
   "execution_count": 27,
   "id": "a710fc57",
   "metadata": {},
   "outputs": [],
   "source": [
    "series3 = pd.Series(states)"
   ]
  },
  {
   "cell_type": "code",
   "execution_count": 26,
   "id": "eca757ff",
   "metadata": {},
   "outputs": [
    {
     "data": {
      "text/plain": [
       "Ohio      35000\n",
       "Texas     71000\n",
       "Oregon    16000\n",
       "Utah       5000\n",
       "dtype: int64"
      ]
     },
     "execution_count": 26,
     "metadata": {},
     "output_type": "execute_result"
    }
   ],
   "source": [
    "series3"
   ]
  },
  {
   "cell_type": "code",
   "execution_count": 28,
   "id": "105b9851",
   "metadata": {},
   "outputs": [],
   "source": [
    "states2 = [\"California\", \"Ohio\", \"Oregon\", \"Texas\"]"
   ]
  },
  {
   "cell_type": "code",
   "execution_count": 29,
   "id": "14a0560e",
   "metadata": {},
   "outputs": [],
   "source": [
    "series4 = pd.Series(states, index=states2)"
   ]
  },
  {
   "cell_type": "code",
   "execution_count": 30,
   "id": "80ee008e",
   "metadata": {},
   "outputs": [
    {
     "data": {
      "text/plain": [
       "California        NaN\n",
       "Ohio          35000.0\n",
       "Oregon        16000.0\n",
       "Texas         71000.0\n",
       "dtype: float64"
      ]
     },
     "execution_count": 30,
     "metadata": {},
     "output_type": "execute_result"
    }
   ],
   "source": [
    "series4"
   ]
  },
  {
   "cell_type": "code",
   "execution_count": 31,
   "id": "31fb7470",
   "metadata": {},
   "outputs": [],
   "source": [
    "#check whether there are null values"
   ]
  },
  {
   "cell_type": "code",
   "execution_count": 32,
   "id": "e8763046",
   "metadata": {},
   "outputs": [
    {
     "data": {
      "text/plain": [
       "California     True\n",
       "Ohio          False\n",
       "Oregon        False\n",
       "Texas         False\n",
       "dtype: bool"
      ]
     },
     "execution_count": 32,
     "metadata": {},
     "output_type": "execute_result"
    }
   ],
   "source": [
    "pd.isnull(series4)"
   ]
  },
  {
   "cell_type": "code",
   "execution_count": 33,
   "id": "e16b7632",
   "metadata": {},
   "outputs": [
    {
     "data": {
      "text/plain": [
       "California    False\n",
       "Ohio           True\n",
       "Oregon         True\n",
       "Texas          True\n",
       "dtype: bool"
      ]
     },
     "execution_count": 33,
     "metadata": {},
     "output_type": "execute_result"
    }
   ],
   "source": [
    "pd.notnull(series4)"
   ]
  },
  {
   "cell_type": "code",
   "execution_count": 34,
   "id": "6cce9faf",
   "metadata": {},
   "outputs": [
    {
     "data": {
      "text/plain": [
       "California     True\n",
       "Ohio          False\n",
       "Oregon        False\n",
       "Texas         False\n",
       "dtype: bool"
      ]
     },
     "execution_count": 34,
     "metadata": {},
     "output_type": "execute_result"
    }
   ],
   "source": [
    "series4.isnull()"
   ]
  },
  {
   "cell_type": "code",
   "execution_count": 35,
   "id": "f7bb0915",
   "metadata": {},
   "outputs": [
    {
     "data": {
      "text/plain": [
       "California         NaN\n",
       "Ohio           70000.0\n",
       "Oregon         32000.0\n",
       "Texas         142000.0\n",
       "Utah               NaN\n",
       "dtype: float64"
      ]
     },
     "execution_count": 35,
     "metadata": {},
     "output_type": "execute_result"
    }
   ],
   "source": [
    "series3+series4"
   ]
  },
  {
   "cell_type": "code",
   "execution_count": 36,
   "id": "a8a8331c",
   "metadata": {},
   "outputs": [],
   "source": [
    "series4.name= \"Population\" #give series4 a name"
   ]
  },
  {
   "cell_type": "code",
   "execution_count": 37,
   "id": "bb091149",
   "metadata": {},
   "outputs": [],
   "source": [
    "series4.index.name = \"State\" #give index a name"
   ]
  },
  {
   "cell_type": "code",
   "execution_count": 40,
   "id": "efa9cd28",
   "metadata": {},
   "outputs": [],
   "source": [
    "series1.index = [ \"neg_Ten\", \"Zero\", \"Ten\", \"Twenty\", \"Thirty\", \"Forty\", \"Fifty\"]"
   ]
  },
  {
   "cell_type": "code",
   "execution_count": 41,
   "id": "2f9ed13c",
   "metadata": {},
   "outputs": [
    {
     "data": {
      "text/plain": [
       "neg_Ten   -10\n",
       "Zero        0\n",
       "Ten        10\n",
       "Twenty     20\n",
       "Thirty     30\n",
       "Forty      40\n",
       "Fifty      50\n",
       "dtype: int64"
      ]
     },
     "execution_count": 41,
     "metadata": {},
     "output_type": "execute_result"
    }
   ],
   "source": [
    "series1"
   ]
  },
  {
   "cell_type": "code",
   "execution_count": null,
   "id": "5a210ac2",
   "metadata": {},
   "outputs": [],
   "source": []
  }
 ],
 "metadata": {
  "kernelspec": {
   "display_name": "Python 3 (ipykernel)",
   "language": "python",
   "name": "python3"
  },
  "language_info": {
   "codemirror_mode": {
    "name": "ipython",
    "version": 3
   },
   "file_extension": ".py",
   "mimetype": "text/x-python",
   "name": "python",
   "nbconvert_exporter": "python",
   "pygments_lexer": "ipython3",
   "version": "3.9.13"
  }
 },
 "nbformat": 4,
 "nbformat_minor": 5
}
